{
 "cells": [
  {
   "cell_type": "code",
   "execution_count": 5,
   "id": "e574a8a0",
   "metadata": {},
   "outputs": [
    {
     "name": "stdout",
     "output_type": "stream",
     "text": [
      "The Highest Seat ID is: 871 and My Seat ID is: 640\n"
     ]
    }
   ],
   "source": [
    "boarding_passes = [] #create an empty list of boarding passes\n",
    "\n",
    "with open('input.txt') as file: #read the input.txt file into this program line by line\n",
    "    bp = file.readlines()\n",
    "for b in bp:\n",
    "    boarding_passes.append(b.replace('\\n', '')) #append each boarding pass to this list by removing the blank \\n character at the end \n",
    "\n",
    "# =============================================================================\n",
    "\n",
    "def calculate_seat_id(boarding_pass): #function to calculate the seat IDs\n",
    "    row_binary = boarding_pass[:7].replace('F', '0').replace('B', '1')  # Convert row characters 'F' and 'B' to binary digits\n",
    "    col_binary = boarding_pass[7:].replace('L', '0').replace('R', '1')  # Convert column characters 'R' and 'L' to binary digits\n",
    "\n",
    "    row = int(row_binary, 2)  # Convert binary row representation to decimal (Applying Binary Space Partitioning)\n",
    "    col = int(col_binary, 2)  # Convert binary column representation to decimal (Applying Binary Space Partitioning)\n",
    "\n",
    "    seat_id = row * 8 + col  # Calculate the seat ID\n",
    "    return seat_id\n",
    "\n",
    "def find_highest_seat_id(seat_ids): #function to calculate the highest seat ID\n",
    "    highest_seat_id = max(seat_ids)\n",
    "    return highest_seat_id\n",
    "\n",
    "def find_missing_seat_id(seat_ids): #function to find the missing seat ID\n",
    "    seat_ids.sort()\n",
    "    all_seats = set(range(min(seat_ids), max(seat_ids) + 1))\n",
    "    missing_seat_id = list(all_seats - set(seat_ids))[0]\n",
    "    return missing_seat_id\n",
    "\n",
    "# =============================================================================\n",
    "\n",
    "seat_ids = [calculate_seat_id(bp) for bp in boarding_passes] # variable to store the list of seat IDs \n",
    "highest_seat_id = find_highest_seat_id(seat_ids) # variable to store the highest seat ID \n",
    "missing_seat_id = find_missing_seat_id(seat_ids) # variable to store the missing seat ID \n",
    "\n",
    "print(f\"The Highest Seat ID is: {highest_seat_id} and My Seat ID is: {missing_seat_id}\")\n",
    "\n",
    "# ============================================================================="
   ]
  },
  {
   "cell_type": "code",
   "execution_count": null,
   "id": "8a446f47",
   "metadata": {},
   "outputs": [],
   "source": []
  }
 ],
 "metadata": {
  "kernelspec": {
   "display_name": "Python 3 (ipykernel)",
   "language": "python",
   "name": "python3"
  },
  "language_info": {
   "codemirror_mode": {
    "name": "ipython",
    "version": 3
   },
   "file_extension": ".py",
   "mimetype": "text/x-python",
   "name": "python",
   "nbconvert_exporter": "python",
   "pygments_lexer": "ipython3",
   "version": "3.11.3"
  }
 },
 "nbformat": 4,
 "nbformat_minor": 5
}
